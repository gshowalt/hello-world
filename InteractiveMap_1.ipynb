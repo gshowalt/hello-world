{
 "cells": [
  {
   "cell_type": "code",
   "execution_count": 161,
   "metadata": {},
   "outputs": [],
   "source": [
    "import pandas as pd\n",
    "import folium\n",
    "import branca"
   ]
  },
  {
   "cell_type": "code",
   "execution_count": 162,
   "metadata": {},
   "outputs": [],
   "source": [
    "Map = folium.Map(location=[0,0],\n",
    "                        zoom_start=1,\n",
    "                        tiles=\"Stamen Toner\")"
   ]
  },
  {
   "cell_type": "code",
   "execution_count": 163,
   "metadata": {
    "scrolled": true
   },
   "outputs": [
    {
     "data": {
      "text/html": [
       "<div style=\"width:100%;\"><div style=\"position:relative;width:100%;height:0;padding-bottom:60%;\"><iframe src=\"data:text/html;charset=utf-8;base64,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\" style=\"position:absolute;width:100%;height:100%;left:0;top:0;border:none !important;\" allowfullscreen webkitallowfullscreen mozallowfullscreen></iframe></div></div>"
      ],
      "text/plain": [
       "<folium.folium.Map at 0x111959dd8>"
      ]
     },
     "execution_count": 163,
     "metadata": {},
     "output_type": "execute_result"
    }
   ],
   "source": [
    "Map"
   ]
  },
  {
   "cell_type": "code",
   "execution_count": null,
   "metadata": {},
   "outputs": [],
   "source": []
  },
  {
   "cell_type": "code",
   "execution_count": 164,
   "metadata": {},
   "outputs": [],
   "source": [
    "#Arctic Ocean 2018 is marker #7\n",
    "\n",
    "html = \"\"\"\n",
    "    <h1> Arctic Ocean 2018 </h1><br>\n",
    "    In August and September of 2018, I will be visiting the Arctic Ocean aboard the Swedish IceBreaker Oden\n",
    "    <p>\n",
    "        <a href=\"https://polarforskningsportalen.se/en/arctic/expeditions/arctic-ocean-2018\">You can learn more on the Website</a><br>\n",
    "    </p>\n",
    "    \"\"\"\n",
    "\n",
    "iframe = branca.element.IFrame(html=html, width=500, height=300)\n",
    "popup7 = folium.Popup(iframe, max_width=500)"
   ]
  },
  {
   "cell_type": "code",
   "execution_count": 165,
   "metadata": {},
   "outputs": [],
   "source": [
    "#Utqiagvik 2017 and 2018 is marker #1\n",
    "\n",
    "html = \"\"\"\n",
    "    <h1> Utqiagvik, Alaska 2017 and 2018 </h1><br>\n",
    "    To learn more about how viruses might impact gene transfer in subzero brines, our team traveled to Utqiagvik (formerly Barrow), Alaska in May of 2017 and again in May of 2018. We collected sea ice and permafrost brines.  \n",
    "    <p>\n",
    "        <img src=\"BarrowIce2018.png; base64,{}\" <br>\n",
    "    </p>\n",
    "    \"\"\"\n",
    "\n",
    "iframe = branca.element.IFrame(html=html, width=500, height=300)\n",
    "popup1 = folium.Popup(iframe, max_width=500)"
   ]
  },
  {
   "cell_type": "code",
   "execution_count": 166,
   "metadata": {},
   "outputs": [
    {
     "data": {
      "text/plain": [
       "<folium.features.CircleMarker at 0x11198e0f0>"
      ]
     },
     "execution_count": 166,
     "metadata": {},
     "output_type": "execute_result"
    }
   ],
   "source": [
    "marker1 = folium.CircleMarker(radius = 10, location=[71.4092, -156.5734], popup =popup1, color = 'blue', fill =True)\n",
    "marker1.add_to(Map)\n",
    "\n",
    "marker3 = folium.CircleMarker(radius = 10, location=[67.7666, -1680145], popup = 'Bering Strait, AK 2015', color = 'blue', fill =True)\n",
    "marker3.add_to(Map)\n",
    "\n",
    "marker4 = folium.CircleMarker(radius = 10, location=[64.1739, -51.5241], popup = 'Nuuk, Greenland 2015', color = 'blue', fill =True)\n",
    "marker4.add_to(Map)\n",
    "\n",
    "marker5 = folium.CircleMarker(radius = 10, location=[-64.774244, -64.055743], popup = 'Palmer Station, Antarctic 2016', color = 'blue', fill =True)\n",
    "marker5.add_to(Map)\n",
    "\n",
    "marker6 = folium.CircleMarker(radius = 10, location=[47.839435, -125.042491 ], popup = 'Washington Coast 2014', color = 'blue', fill =True)\n",
    "marker6.add_to(Map)\n",
    "\n",
    "marker7 = folium.CircleMarker(radius = 10, location=[84, 0], popup = popup7, color = 'blue', fill =True)\n",
    "marker7.add_to(Map)\n",
    "\n"
   ]
  },
  {
   "cell_type": "code",
   "execution_count": 167,
   "metadata": {
    "scrolled": true
   },
   "outputs": [
    {
     "data": {
      "text/html": [
       "<div style=\"width:100%;\"><div style=\"position:relative;width:100%;height:0;padding-bottom:60%;\"><iframe src=\"data:text/html;charset=utf-8;base64,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\" style=\"position:absolute;width:100%;height:100%;left:0;top:0;border:none !important;\" allowfullscreen webkitallowfullscreen mozallowfullscreen></iframe></div></div>"
      ],
      "text/plain": [
       "<folium.folium.Map at 0x111959dd8>"
      ]
     },
     "execution_count": 167,
     "metadata": {},
     "output_type": "execute_result"
    }
   ],
   "source": [
    "Map"
   ]
  },
  {
   "cell_type": "code",
   "execution_count": 168,
   "metadata": {},
   "outputs": [],
   "source": [
    "Map.save(\"my_map.html\")"
   ]
  },
  {
   "cell_type": "code",
   "execution_count": null,
   "metadata": {},
   "outputs": [],
   "source": []
  }
 ],
 "metadata": {
  "kernelspec": {
   "display_name": "Python 3",
   "language": "python",
   "name": "python3"
  },
  "language_info": {
   "codemirror_mode": {
    "name": "ipython",
    "version": 3
   },
   "file_extension": ".py",
   "mimetype": "text/x-python",
   "name": "python",
   "nbconvert_exporter": "python",
   "pygments_lexer": "ipython3",
   "version": "3.6.5"
  }
 },
 "nbformat": 4,
 "nbformat_minor": 2
}
