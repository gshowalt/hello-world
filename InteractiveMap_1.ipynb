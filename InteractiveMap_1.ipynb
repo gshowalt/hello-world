{
 "cells": [
  {
   "cell_type": "code",
   "execution_count": 4,
   "metadata": {},
   "outputs": [
    {
     "data": {
      "text/html": [
       "<script>\n",
       "code_show=true; \n",
       "function code_toggle() {\n",
       " if (code_show){\n",
       " $('div.input').hide();\n",
       " } else {\n",
       " $('div.input').show();\n",
       " }\n",
       " code_show = !code_show\n",
       "} \n",
       "$( document ).ready(code_toggle);\n",
       "</script>\n",
       "<form action=\"javascript:code_toggle()\"><input type=\"submit\" value=\"Click here to toggle on/off the raw code.\"></form>"
      ],
      "text/plain": [
       "<IPython.core.display.HTML object>"
      ]
     },
     "execution_count": 4,
     "metadata": {},
     "output_type": "execute_result"
    }
   ],
   "source": [
    "from IPython.display import HTML\n",
    "\n",
    "HTML('''<script>\n",
    "code_show=true; \n",
    "function code_toggle() {\n",
    " if (code_show){\n",
    " $('div.input').hide();\n",
    " } else {\n",
    " $('div.input').show();\n",
    " }\n",
    " code_show = !code_show\n",
    "} \n",
    "$( document ).ready(code_toggle);\n",
    "</script>\n",
    "<form action=\"javascript:code_toggle()\"><input type=\"submit\" value=\"Click here to toggle on/off the raw code.\"></form>''')"
   ]
  },
  {
   "cell_type": "code",
   "execution_count": 5,
   "metadata": {},
   "outputs": [],
   "source": [
    "import pandas as pd\n",
    "import folium\n",
    "import branca"
   ]
  },
  {
   "cell_type": "code",
   "execution_count": 6,
   "metadata": {},
   "outputs": [],
   "source": [
    "Map = folium.Map(location=[0,0],\n",
    "                        zoom_start=1,\n",
    "                        tiles=\"Stamen Toner\")"
   ]
  },
  {
   "cell_type": "code",
   "execution_count": 7,
   "metadata": {},
   "outputs": [],
   "source": [
    "#Arctic Ocean 2018 is marker #7\n",
    "\n",
    "html = \"\"\"\n",
    "    <h1> Arctic Ocean 2018 </h1><br>\n",
    "    In August and September of 2018, I will be visiting the Arctic Ocean aboard the Swedish IceBreaker Oden\n",
    "    <p>\n",
    "        <a href=\"https://polarforskningsportalen.se/en/arctic/expeditions/arctic-ocean-2018\">You can learn more on the Website</a><br>\n",
    "    </p>\n",
    "    \"\"\"\n",
    "\n",
    "iframe = branca.element.IFrame(html=html, width=500, height=300)\n",
    "popup7 = folium.Popup(iframe, max_width=500)"
   ]
  },
  {
   "cell_type": "code",
   "execution_count": 8,
   "metadata": {},
   "outputs": [],
   "source": [
    "#Utqiagvik 2017 and 2018 is marker #1\n",
    "\n",
    "html = \"\"\"\n",
    "    <h1> Utqiagvik, Alaska 2017 and 2018 </h1><br>\n",
    "    To learn more about how viruses might impact gene transfer in subzero brines, our team traveled to Utqiagvik (formerly Barrow), Alaska in May of 2017 and again in May of 2018. We collected sea ice and permafrost brines.  \n",
    "    <p>\n",
    "        <img src=\"BarrowIce2018.png; base64,{}\" <br>\n",
    "    </p>\n",
    "    \"\"\"\n",
    "\n",
    "iframe = branca.element.IFrame(html=html, width=500, height=300)\n",
    "popup1 = folium.Popup(iframe, max_width=500)"
   ]
  },
  {
   "cell_type": "code",
   "execution_count": 9,
   "metadata": {},
   "outputs": [
    {
     "data": {
      "text/plain": [
       "<folium.features.CircleMarker at 0x10d18c470>"
      ]
     },
     "execution_count": 9,
     "metadata": {},
     "output_type": "execute_result"
    }
   ],
   "source": [
    "marker1 = folium.CircleMarker(radius = 10, location=[71.4092, -156.5734], popup =popup1, color = 'blue', fill =True)\n",
    "marker1.add_to(Map)\n",
    "\n",
    "marker3 = folium.CircleMarker(radius = 10, location=[67.7666, -1680145], popup = 'Bering Strait, AK 2015', color = 'blue', fill =True)\n",
    "marker3.add_to(Map)\n",
    "\n",
    "marker4 = folium.CircleMarker(radius = 10, location=[64.1739, -51.5241], popup = 'Nuuk, Greenland 2015', color = 'blue', fill =True)\n",
    "marker4.add_to(Map)\n",
    "\n",
    "marker5 = folium.CircleMarker(radius = 10, location=[-64.774244, -64.055743], popup = 'Palmer Station, Antarctic 2016', color = 'blue', fill =True)\n",
    "marker5.add_to(Map)\n",
    "\n",
    "marker6 = folium.CircleMarker(radius = 10, location=[47.839435, -125.042491 ], popup = 'Washington Coast 2014', color = 'blue', fill =True)\n",
    "marker6.add_to(Map)\n",
    "\n",
    "marker7 = folium.CircleMarker(radius = 10, location=[84, 0], popup = popup7, color = 'blue', fill =True)\n",
    "marker7.add_to(Map)\n",
    "\n"
   ]
  },
  {
   "cell_type": "code",
   "execution_count": 10,
   "metadata": {
    "scrolled": true
   },
   "outputs": [
    {
     "data": {
      "text/html": [
       "<div style=\"width:100%;\"><div style=\"position:relative;width:100%;height:0;padding-bottom:60%;\"><iframe src=\"data:text/html;charset=utf-8;base64,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\" style=\"position:absolute;width:100%;height:100%;left:0;top:0;border:none !important;\" allowfullscreen webkitallowfullscreen mozallowfullscreen></iframe></div></div>"
      ],
      "text/plain": [
       "<folium.folium.Map at 0x10d131390>"
      ]
     },
     "execution_count": 10,
     "metadata": {},
     "output_type": "execute_result"
    }
   ],
   "source": [
    "Map"
   ]
  },
  {
   "cell_type": "code",
   "execution_count": 168,
   "metadata": {},
   "outputs": [],
   "source": [
    "Map.save(\"my_map.html\")"
   ]
  },
  {
   "cell_type": "code",
   "execution_count": null,
   "metadata": {},
   "outputs": [],
   "source": []
  }
 ],
 "metadata": {
  "kernelspec": {
   "display_name": "Python 3",
   "language": "python",
   "name": "python3"
  },
  "language_info": {
   "codemirror_mode": {
    "name": "ipython",
    "version": 3
   },
   "file_extension": ".py",
   "mimetype": "text/x-python",
   "name": "python",
   "nbconvert_exporter": "python",
   "pygments_lexer": "ipython3",
   "version": "3.6.5"
  }
 },
 "nbformat": 4,
 "nbformat_minor": 2
}
